{
 "cells": [
  {
   "cell_type": "code",
   "execution_count": 32,
   "id": "63c8d7aa",
   "metadata": {},
   "outputs": [],
   "source": [
    "#Importing re for regular expressions, os, defaultdict\n",
    "import re\n",
    "import os\n",
    "from collections import defaultdict"
   ]
  },
  {
   "cell_type": "code",
   "execution_count": 36,
   "id": "b4c3f908",
   "metadata": {},
   "outputs": [],
   "source": [
    "#path to files to be processed\n",
    "path = \"IR-Dataset/hi.tar/hi/data/hi/\"\n",
    "#Getting list of file names\n",
    "fileLst=[]\n",
    "for fl in os.listdir(path):\n",
    "    fileLst.append(fl)"
   ]
  },
  {
   "cell_type": "code",
   "execution_count": null,
   "id": "7f7641f6",
   "metadata": {},
   "outputs": [],
   "source": [
    "# \"/content/drive/MyDrive/hiSplit/\"\n",
    "# from google.colab import drive\n",
    "# drive.mount('/content/drive')"
   ]
  },
  {
   "cell_type": "code",
   "execution_count": 63,
   "id": "dec23bd4",
   "metadata": {},
   "outputs": [],
   "source": [
    "#Creating default dictionaries for all the required characters, syllables, words\n",
    "uniTokenDict = defaultdict(int)\n",
    "biTokenDict = defaultdict(int)\n",
    "triTokenDict = defaultdict(int)\n",
    "uniSyllableDict = defaultdict(int)\n",
    "biSyllableDict = defaultdict(int)\n",
    "triSyllableDict = defaultdict(int)\n",
    "uniCharDict = defaultdict(int)\n",
    "biCharDict = defaultdict(int)\n",
    "triCharDict = defaultdict(int)\n",
    "quadCharDict = defaultdict(int)"
   ]
  },
  {
   "cell_type": "code",
   "execution_count": 39,
   "id": "3094cdd0",
   "metadata": {},
   "outputs": [],
   "source": [
    "#to get unigram words\n",
    "def unigramTokens(tokenLst):\n",
    "    for i in tokenLst:\n",
    "        uniTokenDict[i] = uniTokenDict[i]+1"
   ]
  },
  {
   "cell_type": "code",
   "execution_count": 40,
   "id": "d8bd5063",
   "metadata": {},
   "outputs": [],
   "source": [
    "#to get bigram words\n",
    "def bigramTokens(tokenLst):\n",
    "    biTokenLst = [tokenLst[i]+\" \"+tokenLst[i+1] for i in range(len(tokenLst)-1)]\n",
    "    for i in biTokenLst:\n",
    "        biTokenDict[i] = biTokenDict[i]+1"
   ]
  },
  {
   "cell_type": "code",
   "execution_count": 41,
   "id": "fb8fbc34",
   "metadata": {},
   "outputs": [],
   "source": [
    "#to get trigram words\n",
    "def trigramTokens(tokenLst):\n",
    "    triTokenLst = [tokenLst[i]+\" \"+tokenLst[i+1]+\" \"+tokenLst[i+2] for i in range(len(tokenLst)-2)]\n",
    "    for i in triTokenLst:\n",
    "        triTokenDict[i] = triTokenDict[i]+1"
   ]
  },
  {
   "cell_type": "code",
   "execution_count": 42,
   "id": "598633eb",
   "metadata": {},
   "outputs": [],
   "source": [
    "#to get syllables list from words in list\n",
    "def getSyllables(token):\n",
    "    tokenChars = []\n",
    "    i=0\n",
    "    while i<len(token):\n",
    "        \n",
    "        tokenChars.append(token[i])\n",
    "        if(i<len(token)-1):\n",
    "            if token[i+1] == '्':\n",
    "                while i<len(token)-1:\n",
    "                    if token[i+1] == '्' and i<len(token)-2:\n",
    "                        tokenChars[-1] = tokenChars[-1] + token[i+1] + token[i+2]\n",
    "                        i=i+2\n",
    "                    else:\n",
    "                        if token[i+1] in symbols:\n",
    "                            tokenChars[-1] = tokenChars[-1] + token[i+1]\n",
    "                            i=i+1\n",
    "                        else:\n",
    "                            break\n",
    "            elif token[i+1] in symbols:\n",
    "                tokenChars[-1] = tokenChars[-1] + token[i+1]\n",
    "                i=i+1\n",
    "        i=i+1\n",
    "    return tokenChars"
   ]
  },
  {
   "cell_type": "code",
   "execution_count": 43,
   "id": "cc4ecbeb",
   "metadata": {},
   "outputs": [],
   "source": [
    "#to get unigram syllables\n",
    "def unigramSyllables(syllableLst):\n",
    "    for i in syllableLst:\n",
    "        uniSyllableDict[i] = uniSyllableDict[i]+1"
   ]
  },
  {
   "cell_type": "code",
   "execution_count": 44,
   "id": "f03fd2b5",
   "metadata": {},
   "outputs": [],
   "source": [
    "#to get bigram syllables\n",
    "def bigramSyllables(syllableLst):\n",
    "    biSyllableLst = [syllableLst[i]+syllableLst[i+1] for i in range(len(syllableLst)-1)]\n",
    "    for i in biSyllableLst:\n",
    "        biSyllableDict[i] = biSyllableDict[i]+1"
   ]
  },
  {
   "cell_type": "code",
   "execution_count": 45,
   "id": "f87203fa",
   "metadata": {},
   "outputs": [],
   "source": [
    "#to get trigram syllables\n",
    "def trigramSyllables(syllableLst):\n",
    "    triSyllableLst = [syllableLst[i]+syllableLst[i+1]+syllableLst[i+2] for i in range(len(syllableLst)-2)]\n",
    "    for i in triSyllableLst:\n",
    "        triSyllableDict[i] = triSyllableDict[i]+1"
   ]
  },
  {
   "cell_type": "code",
   "execution_count": 46,
   "id": "6e4cb4c0",
   "metadata": {
    "scrolled": true
   },
   "outputs": [],
   "source": [
    "#getting all alphabets of hindi from their UniCode\n",
    "hiAlph=[]\n",
    "for i in range(int('0900',16),int('0980',16)):\n",
    "    hiAlph.append(chr(i))"
   ]
  },
  {
   "cell_type": "code",
   "execution_count": 47,
   "id": "350932ca",
   "metadata": {},
   "outputs": [
    {
     "name": "stdout",
     "output_type": "stream",
     "text": [
      "['ऄ', 'अ', 'आ', 'इ', 'ई', 'उ', 'ऊ', 'ऋ', 'ऌ', 'ऍ', 'ऎ', 'ए', 'ऐ', 'ऑ', 'ऒ', 'ओ', 'औ', 'अः'] 18\n",
      "['क', 'ख', 'ग', 'घ', 'ङ', 'च', 'छ', 'ज', 'झ', 'ञ', 'ट', 'ठ', 'ड', 'ढ', 'ण', 'त', 'थ', 'द', 'ध', 'न', 'ऩ', 'प', 'फ', 'ब', 'भ', 'म', 'य', 'र', 'ऱ', 'ल', 'ळ', 'ऴ', 'व', 'श', 'ष', 'स', 'ह'] 37\n",
      "['ऀ', 'ँ', 'ं', 'ः', 'ऺ', 'ऻ', '़', 'ा', 'ि', 'ी', 'ु', 'ू', 'ृ', 'ॄ', 'ॅ', 'ॆ', 'े', 'ै', 'ॉ', 'ॊ', 'ो', 'ौ', '्', 'ॎ', 'ॏ', 'ॕ', 'ॖ', 'ॗ'] 28\n"
     ]
    }
   ],
   "source": [
    "#getting vowels, consonants and symbols of hindi language in lists\n",
    "vowels = hiAlph[hiAlph.index('ऄ'):hiAlph.index('औ')+1]\n",
    "vowels.append('अ' + 'ः')\n",
    "consonants = hiAlph[hiAlph.index('क'):hiAlph.index('ह')+1]\n",
    "hiAlph1 = [i for i in hiAlph if i not in vowels and i not in consonants]\n",
    "symbols = hiAlph1[0:hiAlph1.index('ॏ')+1]\n",
    "hiAlph1 = [i for i in hiAlph1 if i not in symbols]\n",
    "symbols.remove('ऽ')\n",
    "symbols.append('ॕ')\n",
    "symbols.append('ॖ')\n",
    "symbols.append('ॗ')\n",
    "print(vowels, len(vowels))\n",
    "print(consonants, len(consonants))\n",
    "print(symbols, len(symbols))"
   ]
  },
  {
   "cell_type": "code",
   "execution_count": 48,
   "id": "9cf70bcf",
   "metadata": {},
   "outputs": [],
   "source": [
    "#getting combined list of hindi alphabets required for following calculations\n",
    "hiAlphCom = hiAlph[hiAlph.index('ऄ'):hiAlph.index('ह')+1] + hiAlph[hiAlph.index('क़'):hiAlph.index('ॡ')+1]"
   ]
  },
  {
   "cell_type": "code",
   "execution_count": 49,
   "id": "8fc3815c",
   "metadata": {},
   "outputs": [],
   "source": [
    "#to get characters from words in list\n",
    "def getCharacters(token):\n",
    "    chars=[]\n",
    "    i=0\n",
    "    while i<len(token):\n",
    "        chars.append(token[i])\n",
    "        if i == len(token)-1:\n",
    "            if token[i] in consonants:\n",
    "                chars[-1]=chars[-1]+'्'\n",
    "                chars.append('अ')\n",
    "        else:\n",
    "            if token[i] in consonants and token[i+1] in hiAlphCom:\n",
    "                chars[-1]=chars[-1]+'्'\n",
    "                chars.append('अ')\n",
    "            else:\n",
    "                if token[i] in consonants:\n",
    "                    chars[-1]=chars[-1]+'्'\n",
    "        if i<len(token)-1 and token[i+1] == '्':\n",
    "            i=i+1\n",
    "        i=i+1\n",
    "    return chars"
   ]
  },
  {
   "cell_type": "code",
   "execution_count": 51,
   "id": "f8323517",
   "metadata": {},
   "outputs": [],
   "source": [
    "#to get unigram characters\n",
    "def unigramChars(charLst):\n",
    "    for i in charLst:\n",
    "        uniCharDict[i] = uniCharDict[i]+1"
   ]
  },
  {
   "cell_type": "code",
   "execution_count": 52,
   "id": "381ac634",
   "metadata": {},
   "outputs": [],
   "source": [
    "#to get bigram characters\n",
    "def bigramChars(charLst):\n",
    "    biCharLst = [charLst[i]+charLst[i+1] for i in range(len(charLst)-1)]\n",
    "    for i in biCharLst:\n",
    "        biCharDict[i] = biCharDict[i]+1"
   ]
  },
  {
   "cell_type": "code",
   "execution_count": 53,
   "id": "b7e0ec8f",
   "metadata": {},
   "outputs": [],
   "source": [
    "#to get trigram characters\n",
    "def trigramChars(charLst):\n",
    "    triCharLst = [charLst[i]+charLst[i+1]+charLst[i+2] for i in range(len(charLst)-2)]\n",
    "    for i in triCharLst:\n",
    "        triCharDict[i] = triCharDict[i]+1"
   ]
  },
  {
   "cell_type": "code",
   "execution_count": 54,
   "id": "0d35bcd0",
   "metadata": {},
   "outputs": [],
   "source": [
    "#to get quadgram characters\n",
    "def quadgramChars(charLst):\n",
    "    quadCharLst = [charLst[i]+charLst[i+1]+charLst[i+2]+charLst[i+3] for i in range(len(charLst)-3)]\n",
    "    for i in quadCharLst:\n",
    "        quadCharDict[i] = quadCharDict[i]+1"
   ]
  },
  {
   "cell_type": "code",
   "execution_count": 73,
   "id": "cf0fad1e",
   "metadata": {},
   "outputs": [],
   "source": [
    "#to get top n elements from dictionary a\n",
    "def topInDict(a,n):\n",
    "    return (dict(sorted(a.items(), key=lambda x: x[1], reverse=True)[:n]))"
   ]
  },
  {
   "cell_type": "code",
   "execution_count": null,
   "id": "fc66c611",
   "metadata": {},
   "outputs": [],
   "source": [
    "#for loop to process each file in sequence and get the required data using pre-defined functions\n",
    "c=0\n",
    "for files in fileLst:\n",
    "    tokenAll = []\n",
    "    with open(path+files,'r',encoding=\"utf8\") as file:\n",
    "        line=file.readline()\n",
    "        while line:\n",
    "            c=c+1\n",
    "            line = re.sub(r\"[^\\u0900-\\u0950\\u0955-\\u0963\\u0972-\\u097C\\u097E-\\u097F\\u0020]+\", \" \", line)\n",
    "            tokenAll.append(line.split())\n",
    "            line=file.readline()\n",
    "            tokenLst = [i for j in tokenAll for i in j]\n",
    "            tokenAll = []\n",
    "            unigramTokens(tokenLst)\n",
    "            bigramTokens(tokenLst)\n",
    "            trigramTokens(tokenLst)\n",
    "            syllableAll = [getSyllables(i) for i in tokenLst]\n",
    "            syllableLst = [i for j in syllableAll for i in j]\n",
    "            del syllableAll\n",
    "            unigramSyllables(syllableLst)\n",
    "            bigramSyllables(syllableLst)\n",
    "            trigramSyllables(syllableLst)\n",
    "            del syllableLst\n",
    "            charAll = [getCharacters(i) for i in tokenLst]\n",
    "            charLst = [i for j in charAll for i in j]\n",
    "            del charAll\n",
    "            unigramChars(charLst)\n",
    "            bigramChars(charLst)\n",
    "            trigramChars(charLst)\n",
    "            quadgramChars(charLst)\n",
    "            #to save memory consider top 50000 trigram words and top 500000 bigrams from each file\n",
    "            if c % 500000 == 0:\n",
    "                tokenLst=[]\n",
    "                a = topInDict(biTokenDict,500000)\n",
    "                biTokenDict = defaultdict(int)\n",
    "                biTokenDict.update(a)\n",
    "                a={}\n",
    "                a = topInDict(triTokenDict,50000)\n",
    "                triTokenDict = defaultdict(int)\n",
    "                triTokenDict.update(a)"
   ]
  },
  {
   "cell_type": "code",
   "execution_count": 9,
   "id": "21cf20a6",
   "metadata": {},
   "outputs": [],
   "source": [
    "#import pickle to save data\n",
    "import pickle"
   ]
  },
  {
   "cell_type": "code",
   "execution_count": null,
   "id": "a2715d37",
   "metadata": {},
   "outputs": [],
   "source": [
    "#dump sorted unigram tokens dictionary\n",
    "#dumping only top 200000 tokens to reduce storage usage\n",
    "sort = dict(sorted(uniTokenDict.items(), key=lambda x: x[1], reverse=True)[:200000])\n",
    "fl=open(\"Q3PKL/unigramTokens.pickle\",\"wb\")\n",
    "pickle.dump(sort,fl)"
   ]
  },
  {
   "cell_type": "code",
   "execution_count": null,
   "id": "f46776a9",
   "metadata": {},
   "outputs": [],
   "source": [
    "#dump sorted bigram tokens dictionary\n",
    "sort = dict(sorted(biTokenDict.items(), key=lambda x: x[1], reverse=True))\n",
    "fl=open(\"Q3PKL/bigramTokens.pickle\",\"wb\")\n",
    "pickle.dump(sort,fl)"
   ]
  },
  {
   "cell_type": "code",
   "execution_count": 10,
   "id": "1e404c48",
   "metadata": {},
   "outputs": [],
   "source": [
    "#dump sorted trigram tokens dictionary\n",
    "sort = dict(sorted(triTokenDict.items(), key=lambda x: x[1], reverse=True))\n",
    "fl=open(\"Q3PKL/trigramTokens.pickle\",\"wb\")\n",
    "pickle.dump(sort,fl)"
   ]
  },
  {
   "cell_type": "code",
   "execution_count": 17,
   "id": "bd46f40f",
   "metadata": {},
   "outputs": [],
   "source": [
    "#dump sorted unigram syllables dictionary\n",
    "sort = dict(sorted(uniSyllableDict.items(), key=lambda x: x[1], reverse=True))\n",
    "fl=open(\"Q3PKL/unigramSyllables.pickle\",\"wb\")\n",
    "pickle.dump(sort,fl)"
   ]
  },
  {
   "cell_type": "code",
   "execution_count": 20,
   "id": "eb9d16bd",
   "metadata": {},
   "outputs": [],
   "source": [
    "#dump sorted bigram syllables dictionary\n",
    "sort = dict(sorted(biSyllableDict.items(), key=lambda x: x[1], reverse=True))\n",
    "fl=open(\"Q3PKL/bigramSyllables.pickle\",\"wb\")\n",
    "pickle.dump(sort,fl)"
   ]
  },
  {
   "cell_type": "code",
   "execution_count": 23,
   "id": "ce265b97",
   "metadata": {},
   "outputs": [],
   "source": [
    "#dump sorted trigram syllables dictionary\n",
    "sort = dict(sorted(triSyllableDict.items(), key=lambda x: x[1], reverse=True))\n",
    "fl=open(\"Q3PKL/trigramSyllables.pickle\",\"wb\")\n",
    "pickle.dump(sort,fl)"
   ]
  },
  {
   "cell_type": "code",
   "execution_count": 27,
   "id": "04b2e7b5",
   "metadata": {},
   "outputs": [],
   "source": [
    "#dump sorted unigram characters dictionary\n",
    "sort = dict(sorted(uniCharDict.items(), key=lambda x: x[1], reverse=True))\n",
    "fl=open(\"Q3PKL/unigramChars.pickle\",\"wb\")\n",
    "pickle.dump(sort,fl)"
   ]
  },
  {
   "cell_type": "code",
   "execution_count": 32,
   "id": "697312a7",
   "metadata": {},
   "outputs": [],
   "source": [
    "#dump sorted bigram characters dictionary\n",
    "sort = dict(sorted(biCharDict.items(), key=lambda x: x[1], reverse=True))\n",
    "fl=open(\"Q3PKL/bigramChars.pickle\",\"wb\")\n",
    "pickle.dump(sort,fl)"
   ]
  },
  {
   "cell_type": "code",
   "execution_count": 35,
   "id": "8942599f",
   "metadata": {},
   "outputs": [],
   "source": [
    "#dump sorted trigram characters dictionary\n",
    "sort = dict(sorted(triCharDict.items(), key=lambda x: x[1], reverse=True))\n",
    "fl=open(\"Q3PKL/trigramChars.pickle\",\"wb\")\n",
    "pickle.dump(sort,fl)"
   ]
  },
  {
   "cell_type": "code",
   "execution_count": 44,
   "id": "9116d82a",
   "metadata": {},
   "outputs": [],
   "source": [
    "#dump sorted quadgram characters dictionary\n",
    "sort = dict(sorted(quadCharDict.items(), key=lambda x: x[1], reverse=True))\n",
    "fl=open(\"Q3PKL/quadgramChars.pickle\",\"wb\")\n",
    "pickle.dump(sort,fl)"
   ]
  }
 ],
 "metadata": {
  "kernelspec": {
   "display_name": "Python 3 (ipykernel)",
   "language": "python",
   "name": "python3"
  },
  "language_info": {
   "codemirror_mode": {
    "name": "ipython",
    "version": 3
   },
   "file_extension": ".py",
   "mimetype": "text/x-python",
   "name": "python",
   "nbconvert_exporter": "python",
   "pygments_lexer": "ipython3",
   "version": "3.9.12"
  }
 },
 "nbformat": 4,
 "nbformat_minor": 5
}
